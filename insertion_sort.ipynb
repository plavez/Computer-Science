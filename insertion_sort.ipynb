{
  "cells": [
    {
      "cell_type": "markdown",
      "metadata": {
        "colab_type": "text",
        "id": "view-in-github"
      },
      "source": [
        "<a href=\"https://colab.research.google.com/github/plavez/Computer-Science/blob/main/insertion_sort.ipynb\" target=\"_parent\"><img src=\"https://colab.research.google.com/assets/colab-badge.svg\" alt=\"Open In Colab\"/></a>"
      ]
    },
    {
      "cell_type": "code",
      "execution_count": null,
      "metadata": {
        "colab": {
          "base_uri": "https://localhost:8080/"
        },
        "id": "j8h1LtGf7Z-D",
        "outputId": "bdea784f-b26f-4352-ac4b-195b20c9b0dd"
      },
      "outputs": [
        {
          "data": {
            "text/plain": [
              "[<Figure size 640x480 with 1 Axes>,\n",
              " <Figure size 640x480 with 1 Axes>,\n",
              " <Figure size 640x480 with 1 Axes>]"
            ]
          },
          "execution_count": 1,
          "metadata": {},
          "output_type": "execute_result"
        }
      ],
      "source": [
        "import matplotlib.pyplot as plt\n",
        "import time\n",
        "\n",
        "\n",
        "def visualize_insertion_sort(arr):\n",
        "    snapshots = []\n",
        "    a_list = arr[:]\n",
        "    for i in range(1, len(a_list)):\n",
        "        value = a_list[i]\n",
        "        j = i\n",
        "        while j > 0 and a_list[j - 1] > value:\n",
        "            a_list[j] = a_list[j - 1]\n",
        "            j -= 1\n",
        "        a_list[j] = value\n",
        "        snapshots.append((a_list[:], i, j))  # save snapshot with current state\n",
        "\n",
        "    return snapshots\n",
        "\n",
        "\n",
        "# Generate visualization data\n",
        "input_list = [6, 5, 3, 8]\n",
        "snapshots = visualize_insertion_sort(input_list)\n",
        "\n",
        "# Plot snapshots step by step\n",
        "figs = []\n",
        "for step, (state, i, j) in enumerate(snapshots):\n",
        "    fig, ax = plt.subplots()\n",
        "    bars = ax.bar(range(len(state)), state)\n",
        "    for k in range(len(state)):\n",
        "        if k == j:\n",
        "            bars[k].set_edgecolor(\"red\")\n",
        "            bars[k].set_linewidth(3)\n",
        "        elif k == i:\n",
        "            bars[k].set_edgecolor(\"blue\")\n",
        "            bars[k].set_linewidth(2)\n",
        "    ax.set_title(f\"Шаг {step+1}: вставка элемента\")\n",
        "    ax.set_ylim(0, max(input_list) + 2)\n",
        "    figs.append(fig)\n",
        "\n",
        "# plt.close('all')  # Prevent automatic inline display\n",
        "# figs\n",
        "plt.show()\n",
        "\n"
      ]
    }
  ],
  "metadata": {
    "colab": {
      "authorship_tag": "ABX9TyOj64V3LULemJM1W6qKTHHc",
      "include_colab_link": true,
      "provenance": []
    },
    "kernelspec": {
      "display_name": "Python 3",
      "name": "python3"
    },
    "language_info": {
      "codemirror_mode": {
        "name": "ipython",
        "version": 3
      },
      "file_extension": ".py",
      "mimetype": "text/x-python",
      "name": "python",
      "nbconvert_exporter": "python",
      "pygments_lexer": "ipython3",
      "version": "3.13.2"
    }
  },
  "nbformat": 4,
  "nbformat_minor": 0
}
